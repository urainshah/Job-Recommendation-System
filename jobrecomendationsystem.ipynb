{
  "cells": [
    {
      "cell_type": "code",
      "execution_count": null,
      "metadata": {
        "id": "zvs3ebkofUaK"
      },
      "outputs": [],
      "source": []
    },
    {
      "cell_type": "markdown",
      "metadata": {
        "id": "vl6665qzfYDB"
      },
      "source": [
        "# Job recomendation system\n"
      ]
    },
    {
      "cell_type": "code",
      "execution_count": 1,
      "metadata": {
        "id": "ctUX6UYwflsF"
      },
      "outputs": [],
      "source": [
        "# importing the necessary Python libraries\n",
        "import numpy as np\n",
        "import pandas as pd\n",
        "from sklearn.metrics.pairwise import cosine_similarity\n",
        "import matplotlib.pyplot as plt\n",
        "from wordcloud import WordCloud, STOPWORDS, ImageColorGenerator\n",
        "import nltk\n",
        "import re\n",
        "from nltk.corpus import stopwords\n",
        "import string\n",
        "import seaborn as sns"
      ]
    },
    {
      "cell_type": "code",
      "execution_count": 2,
      "metadata": {
        "colab": {
          "base_uri": "https://localhost:8080/",
          "height": 617
        },
        "id": "WKiblKVYfpkT",
        "outputId": "63a9bbd3-9b1e-443d-fcc3-90bc14e0f3f1"
      },
      "outputs": [
        {
          "output_type": "execute_result",
          "data": {
            "text/plain": [
              "   Unnamed: 0                    Job Salary Job Experience Required  \\\n",
              "0           0   Not Disclosed by Recruiter               5 - 10 yrs   \n",
              "1           1   Not Disclosed by Recruiter                2 - 5 yrs   \n",
              "2           2   Not Disclosed by Recruiter                0 - 1 yrs   \n",
              "3           3       2,00,000 - 4,00,000 PA.               0 - 5 yrs   \n",
              "4           4   Not Disclosed by Recruiter                2 - 5 yrs   \n",
              "\n",
              "                                          Key Skills  \\\n",
              "0                      Media Planning| Digital Media   \n",
              "1   pre sales| closing| software knowledge| clien...   \n",
              "2   Computer science| Fabrication| Quality check|...   \n",
              "3                                  Technical Support   \n",
              "4   manual testing| test engineering| test cases|...   \n",
              "\n",
              "                                Role Category  \\\n",
              "0                                 Advertising   \n",
              "1                                Retail Sales   \n",
              "2                                         R&D   \n",
              "3  Admin/Maintenance/Security/Datawarehousing   \n",
              "4                        Programming & Design   \n",
              "\n",
              "                                     Functional Area  \\\n",
              "0  Marketing , Advertising , MR , PR , Media Plan...   \n",
              "1              Sales , Retail , Business Development   \n",
              "2                           Engineering Design , R&D   \n",
              "3  IT Software - Application Programming , Mainte...   \n",
              "4                         IT Software - QA & Testing   \n",
              "\n",
              "                                Industry                         Job Title  \n",
              "0  Advertising, PR, MR, Event Management  Media Planning Executive/Manager  \n",
              "1         IT-Software, Software Services           Sales Executive/Officer  \n",
              "2                  Recruitment, Staffing                     R&D Executive  \n",
              "3         IT-Software, Software Services        Technical Support Engineer  \n",
              "4         IT-Software, Software Services                  Testing Engineer  "
            ],
            "text/html": [
              "\n",
              "  <div id=\"df-6164dc0b-baf9-434a-af59-213d155a36dc\">\n",
              "    <div class=\"colab-df-container\">\n",
              "      <div>\n",
              "<style scoped>\n",
              "    .dataframe tbody tr th:only-of-type {\n",
              "        vertical-align: middle;\n",
              "    }\n",
              "\n",
              "    .dataframe tbody tr th {\n",
              "        vertical-align: top;\n",
              "    }\n",
              "\n",
              "    .dataframe thead th {\n",
              "        text-align: right;\n",
              "    }\n",
              "</style>\n",
              "<table border=\"1\" class=\"dataframe\">\n",
              "  <thead>\n",
              "    <tr style=\"text-align: right;\">\n",
              "      <th></th>\n",
              "      <th>Unnamed: 0</th>\n",
              "      <th>Job Salary</th>\n",
              "      <th>Job Experience Required</th>\n",
              "      <th>Key Skills</th>\n",
              "      <th>Role Category</th>\n",
              "      <th>Functional Area</th>\n",
              "      <th>Industry</th>\n",
              "      <th>Job Title</th>\n",
              "    </tr>\n",
              "  </thead>\n",
              "  <tbody>\n",
              "    <tr>\n",
              "      <th>0</th>\n",
              "      <td>0</td>\n",
              "      <td>Not Disclosed by Recruiter</td>\n",
              "      <td>5 - 10 yrs</td>\n",
              "      <td>Media Planning| Digital Media</td>\n",
              "      <td>Advertising</td>\n",
              "      <td>Marketing , Advertising , MR , PR , Media Plan...</td>\n",
              "      <td>Advertising, PR, MR, Event Management</td>\n",
              "      <td>Media Planning Executive/Manager</td>\n",
              "    </tr>\n",
              "    <tr>\n",
              "      <th>1</th>\n",
              "      <td>1</td>\n",
              "      <td>Not Disclosed by Recruiter</td>\n",
              "      <td>2 - 5 yrs</td>\n",
              "      <td>pre sales| closing| software knowledge| clien...</td>\n",
              "      <td>Retail Sales</td>\n",
              "      <td>Sales , Retail , Business Development</td>\n",
              "      <td>IT-Software, Software Services</td>\n",
              "      <td>Sales Executive/Officer</td>\n",
              "    </tr>\n",
              "    <tr>\n",
              "      <th>2</th>\n",
              "      <td>2</td>\n",
              "      <td>Not Disclosed by Recruiter</td>\n",
              "      <td>0 - 1 yrs</td>\n",
              "      <td>Computer science| Fabrication| Quality check|...</td>\n",
              "      <td>R&amp;D</td>\n",
              "      <td>Engineering Design , R&amp;D</td>\n",
              "      <td>Recruitment, Staffing</td>\n",
              "      <td>R&amp;D Executive</td>\n",
              "    </tr>\n",
              "    <tr>\n",
              "      <th>3</th>\n",
              "      <td>3</td>\n",
              "      <td>2,00,000 - 4,00,000 PA.</td>\n",
              "      <td>0 - 5 yrs</td>\n",
              "      <td>Technical Support</td>\n",
              "      <td>Admin/Maintenance/Security/Datawarehousing</td>\n",
              "      <td>IT Software - Application Programming , Mainte...</td>\n",
              "      <td>IT-Software, Software Services</td>\n",
              "      <td>Technical Support Engineer</td>\n",
              "    </tr>\n",
              "    <tr>\n",
              "      <th>4</th>\n",
              "      <td>4</td>\n",
              "      <td>Not Disclosed by Recruiter</td>\n",
              "      <td>2 - 5 yrs</td>\n",
              "      <td>manual testing| test engineering| test cases|...</td>\n",
              "      <td>Programming &amp; Design</td>\n",
              "      <td>IT Software - QA &amp; Testing</td>\n",
              "      <td>IT-Software, Software Services</td>\n",
              "      <td>Testing Engineer</td>\n",
              "    </tr>\n",
              "  </tbody>\n",
              "</table>\n",
              "</div>\n",
              "      <button class=\"colab-df-convert\" onclick=\"convertToInteractive('df-6164dc0b-baf9-434a-af59-213d155a36dc')\"\n",
              "              title=\"Convert this dataframe to an interactive table.\"\n",
              "              style=\"display:none;\">\n",
              "        \n",
              "  <svg xmlns=\"http://www.w3.org/2000/svg\" height=\"24px\"viewBox=\"0 0 24 24\"\n",
              "       width=\"24px\">\n",
              "    <path d=\"M0 0h24v24H0V0z\" fill=\"none\"/>\n",
              "    <path d=\"M18.56 5.44l.94 2.06.94-2.06 2.06-.94-2.06-.94-.94-2.06-.94 2.06-2.06.94zm-11 1L8.5 8.5l.94-2.06 2.06-.94-2.06-.94L8.5 2.5l-.94 2.06-2.06.94zm10 10l.94 2.06.94-2.06 2.06-.94-2.06-.94-.94-2.06-.94 2.06-2.06.94z\"/><path d=\"M17.41 7.96l-1.37-1.37c-.4-.4-.92-.59-1.43-.59-.52 0-1.04.2-1.43.59L10.3 9.45l-7.72 7.72c-.78.78-.78 2.05 0 2.83L4 21.41c.39.39.9.59 1.41.59.51 0 1.02-.2 1.41-.59l7.78-7.78 2.81-2.81c.8-.78.8-2.07 0-2.86zM5.41 20L4 18.59l7.72-7.72 1.47 1.35L5.41 20z\"/>\n",
              "  </svg>\n",
              "      </button>\n",
              "      \n",
              "  <style>\n",
              "    .colab-df-container {\n",
              "      display:flex;\n",
              "      flex-wrap:wrap;\n",
              "      gap: 12px;\n",
              "    }\n",
              "\n",
              "    .colab-df-convert {\n",
              "      background-color: #E8F0FE;\n",
              "      border: none;\n",
              "      border-radius: 50%;\n",
              "      cursor: pointer;\n",
              "      display: none;\n",
              "      fill: #1967D2;\n",
              "      height: 32px;\n",
              "      padding: 0 0 0 0;\n",
              "      width: 32px;\n",
              "    }\n",
              "\n",
              "    .colab-df-convert:hover {\n",
              "      background-color: #E2EBFA;\n",
              "      box-shadow: 0px 1px 2px rgba(60, 64, 67, 0.3), 0px 1px 3px 1px rgba(60, 64, 67, 0.15);\n",
              "      fill: #174EA6;\n",
              "    }\n",
              "\n",
              "    [theme=dark] .colab-df-convert {\n",
              "      background-color: #3B4455;\n",
              "      fill: #D2E3FC;\n",
              "    }\n",
              "\n",
              "    [theme=dark] .colab-df-convert:hover {\n",
              "      background-color: #434B5C;\n",
              "      box-shadow: 0px 1px 3px 1px rgba(0, 0, 0, 0.15);\n",
              "      filter: drop-shadow(0px 1px 2px rgba(0, 0, 0, 0.3));\n",
              "      fill: #FFFFFF;\n",
              "    }\n",
              "  </style>\n",
              "\n",
              "      <script>\n",
              "        const buttonEl =\n",
              "          document.querySelector('#df-6164dc0b-baf9-434a-af59-213d155a36dc button.colab-df-convert');\n",
              "        buttonEl.style.display =\n",
              "          google.colab.kernel.accessAllowed ? 'block' : 'none';\n",
              "\n",
              "        async function convertToInteractive(key) {\n",
              "          const element = document.querySelector('#df-6164dc0b-baf9-434a-af59-213d155a36dc');\n",
              "          const dataTable =\n",
              "            await google.colab.kernel.invokeFunction('convertToInteractive',\n",
              "                                                     [key], {});\n",
              "          if (!dataTable) return;\n",
              "\n",
              "          const docLinkHtml = 'Like what you see? Visit the ' +\n",
              "            '<a target=\"_blank\" href=https://colab.research.google.com/notebooks/data_table.ipynb>data table notebook</a>'\n",
              "            + ' to learn more about interactive tables.';\n",
              "          element.innerHTML = '';\n",
              "          dataTable['output_type'] = 'display_data';\n",
              "          await google.colab.output.renderOutput(dataTable, element);\n",
              "          const docLink = document.createElement('div');\n",
              "          docLink.innerHTML = docLinkHtml;\n",
              "          element.appendChild(docLink);\n",
              "        }\n",
              "      </script>\n",
              "    </div>\n",
              "  </div>\n",
              "  "
            ]
          },
          "metadata": {},
          "execution_count": 2
        }
      ],
      "source": [
        "# Loading dataset\n",
        "data = pd.read_csv(\"jobs.csv\")\n",
        "data.head()"
      ]
    },
    {
      "cell_type": "code",
      "execution_count": 3,
      "metadata": {
        "colab": {
          "base_uri": "https://localhost:8080/"
        },
        "id": "9JtbL637EEA2",
        "outputId": "6db430a8-a195-4907-a08c-0566ee475c2d"
      },
      "outputs": [
        {
          "output_type": "execute_result",
          "data": {
            "text/plain": [
              "Index(['Unnamed: 0', 'Job Salary', 'Job Experience Required', 'Key Skills',\n",
              "       'Role Category', 'Functional Area', 'Industry', 'Job Title'],\n",
              "      dtype='object')"
            ]
          },
          "metadata": {},
          "execution_count": 3
        }
      ],
      "source": [
        "# checking all the columns in the dataset\n",
        "data.columns"
      ]
    },
    {
      "cell_type": "code",
      "source": [
        "data.shape"
      ],
      "metadata": {
        "colab": {
          "base_uri": "https://localhost:8080/"
        },
        "id": "-5GIoEtCHy9P",
        "outputId": "b67cd0d2-4db7-4234-85f9-6883a1338421"
      },
      "execution_count": 4,
      "outputs": [
        {
          "output_type": "execute_result",
          "data": {
            "text/plain": [
              "(27010, 8)"
            ]
          },
          "metadata": {},
          "execution_count": 4
        }
      ]
    },
    {
      "cell_type": "code",
      "execution_count": 5,
      "metadata": {
        "id": "542P4F6Ufw7N"
      },
      "outputs": [],
      "source": [
        "# dropping unnamed column\n",
        "data = data.drop(\"Unnamed: 0\",axis=1)\n"
      ]
    },
    {
      "cell_type": "code",
      "execution_count": 6,
      "metadata": {
        "colab": {
          "base_uri": "https://localhost:8080/"
        },
        "id": "0xM_aGirlhsM",
        "outputId": "e11ddd58-228f-4fc7-99ea-37576d2ed87a"
      },
      "outputs": [
        {
          "output_type": "execute_result",
          "data": {
            "text/plain": [
              "Job Salary                 0\n",
              "Job Experience Required    0\n",
              "Key Skills                 0\n",
              "Role Category              0\n",
              "Functional Area            0\n",
              "Industry                   0\n",
              "Job Title                  0\n",
              "dtype: int64"
            ]
          },
          "metadata": {},
          "execution_count": 6
        }
      ],
      "source": [
        "# checking if any column has any Null value\n",
        "data.isnull().sum()"
      ]
    },
    {
      "cell_type": "markdown",
      "source": [
        "The Key Skills column in the dataset contains the skills required for the job role.\n",
        "\n",
        "We can use the Key Skills column to recommend jobs to the users.\n"
      ],
      "metadata": {
        "id": "xKUZyFguM_g-"
      }
    },
    {
      "cell_type": "code",
      "source": [
        "from sklearn.feature_extraction import text\n",
        "feature = data[\"Key Skills\"]\n",
        "tfidf = text.TfidfVectorizer( stop_words=\"english\")\n",
        "tfidf_matrix = tfidf.fit_transform(feature)\n",
        "similarity = cosine_similarity(tfidf_matrix)"
      ],
      "metadata": {
        "id": "h-FWpOYvQMNP"
      },
      "execution_count": 8,
      "outputs": []
    },
    {
      "cell_type": "code",
      "execution_count": 9,
      "metadata": {
        "id": "i7vnrZ7YtxEk"
      },
      "outputs": [],
      "source": [
        "#will set the Job title column as the index of the dataset so that the users can find similar jobs according to the job\n",
        "indices = pd.Series(data.index, index=data['Job Title']).drop_duplicates()"
      ]
    },
    {
      "cell_type": "code",
      "execution_count": 10,
      "metadata": {
        "colab": {
          "base_uri": "https://localhost:8080/"
        },
        "id": "vHlsZz4S0whW",
        "outputId": "a6b13fee-e143-49e7-953f-7fc86a9b3b79"
      },
      "outputs": [
        {
          "output_type": "stream",
          "name": "stdout",
          "text": [
            "                                       Job Title Job Experience Required  \\\n",
            "6249          Sales/Business Development Manager               4 - 5 yrs   \n",
            "6248                          Software Developer               2 - 5 yrs   \n",
            "6247  Associate/Senior Associate -(NonTechnical)              5 - 10 yrs   \n",
            "6246                          Software Developer               1 - 6 yrs   \n",
            "6245  Associate/Senior Associate -(NonTechnical)               1 - 4 yrs   \n",
            "\n",
            "                                             Key Skills  \n",
            "6249   Networking| Printing| Aerospace| Raw material...  \n",
            "6248   PHP| MVC| Laravel| AWS| SDLC| Wordpress| LAMP...  \n",
            "6247   Data analysis| Investment banking| Financial ...  \n",
            "6246   Coding| Wordpress| Commerce| HTML| Troublesho...  \n",
            "6245   client servicing| client support| background ...  \n"
          ]
        }
      ],
      "source": [
        "# function to recommend top 5 jobs\n",
        "def jobs_recommendation(Title, similarity = similarity):\n",
        "    index = indices[Title]\n",
        "    similarity_scores = list(enumerate(similarity[index]))\n",
        "    similarity_scores = sorted(similarity_scores, key=lambda x: x[::], reverse=True)\n",
        "    similarity_scores = similarity_scores[0:5]\n",
        "    newsindices = [i[0] for i in similarity_scores]\n",
        "    return data[['Job Title', 'Job Experience Required',\n",
        "                 'Key Skills']].iloc[newsindices]\n",
        "\n",
        "print(jobs_recommendation(\"Software Developer\"))"
      ]
    }
  ],
  "metadata": {
    "colab": {
      "provenance": []
    },
    "kernelspec": {
      "display_name": "Python 3",
      "name": "python3"
    },
    "language_info": {
      "name": "python"
    }
  },
  "nbformat": 4,
  "nbformat_minor": 0
}